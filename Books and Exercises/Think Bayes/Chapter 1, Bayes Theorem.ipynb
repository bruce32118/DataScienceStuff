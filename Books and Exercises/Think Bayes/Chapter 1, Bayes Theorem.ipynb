{
 "metadata": {
  "name": "",
  "signature": "sha256:14b98953dcb4f8fca25819751ab7c97f0b6432347f9354bbc936bdf1e6e0af5a"
 },
 "nbformat": 3,
 "nbformat_minor": 0,
 "worksheets": [
  {
   "cells": [
    {
     "cell_type": "heading",
     "level": 1,
     "metadata": {},
     "source": [
      "Chapter 1: Bayes' Theorem"
     ]
    },
    {
     "cell_type": "heading",
     "level": 3,
     "metadata": {},
     "source": [
      "The Bayesian Interpretation of Probability"
     ]
    },
    {
     "cell_type": "markdown",
     "metadata": {},
     "source": [
      "Probabilities are expressed as values between $0$ and $1$, and represent degrees of belief in a fact or prediction. A probability of $1$ represents certainty that the fact is true, $0$ represents certainty that the fact is false, and any value between $0$ and $1$ represents a degree of uncertainty."
     ]
    },
    {
     "cell_type": "heading",
     "level": 3,
     "metadata": {},
     "source": [
      "Conditional Probability"
     ]
    },
    {
     "cell_type": "markdown",
     "metadata": {},
     "source": [
      "A conditional probability is a probability based on some background information.<br/><br/>\n",
      "Given two statements A and B, the **conditional probability** of A given B is: $$P\\left(A|B\\right) = \\frac{P\\left(A \\cap B\\right)}{P\\left(B\\right)}$$ or the probability of both A and B divided by the probability of B.\n",
      "We can intuitively see that this is true by considering a Venn diagram:"
     ]
    },
    {
     "cell_type": "code",
     "collapsed": false,
     "input": [
      "import matplotlib.pyplot as plt\n",
      "from matplotlib_venn import venn2, venn2_circles\n",
      "%matplotlib inline\n",
      "\n",
      "v = venn2(subsets = (1,1,1),set_labels=(r'$P\\left(A\\right)$',r'$P\\left(B\\right)$'))\n",
      "v.get_label_by_id('10').set_text(r'$P\\left(A \\backslash B\\right)$')\n",
      "v.get_label_by_id('11').set_text(r'$P\\left(A \\cap B\\right)$')\n",
      "v.get_label_by_id('01').set_text(r'$P\\left(B \\backslash A\\right)$')\n",
      "plt.show()"
     ],
     "language": "python",
     "metadata": {},
     "outputs": [
      {
       "metadata": {},
       "output_type": "display_data",
       "png": "[encoded data removed]",
       "text": [
        "<matplotlib.figure.Figure at 0x6b315f8>"
       ]
      }
     ],
     "prompt_number": 2
    },
    {
     "cell_type": "markdown",
     "metadata": {},
     "source": [
      "The conditional probability of A given B is represented by the proportion of the total area of the green circle $B$ that is taken up by $A\\cap B$, or $\\frac{P\\left(A \\cap B\\right)}{P\\left(B\\right)}$."
     ]
    },
    {
     "cell_type": "heading",
     "level": 3,
     "metadata": {},
     "source": [
      "Conjoint Probability"
     ]
    },
    {
     "cell_type": "markdown",
     "metadata": {},
     "source": [
      "**Conjoint probability** is the probability that two things are true. We can rearrange the conditional probability to derive a formula for conjoin probability: $$P\\left(A \\cap B\\right) = P\\left(A|B\\right)P\\left(B\\right).$$ In the special case that two events A and B are independent of one another, then $P\\left(A|B\\right) = P\\left(A\\right)$, so $P\\left(A \\cap B\\right) = P\\left(A\\right)P\\left(B\\right)$."
     ]
    },
    {
     "cell_type": "heading",
     "level": 1,
     "metadata": {},
     "source": [
      "The Cookie Problem"
     ]
    },
    {
     "cell_type": "markdown",
     "metadata": {},
     "source": [
      "Suppose there are two bowls of cookies. Bowl 1 contains 30 vanilla cookies and 10 chocolate ones. Bowl 2 contains 20 vanilla and 20 chocolate. Now suppose we select a bowl at random, and without looking select a cookie at random. The cookie is vanilla. What is the probability that it came from Bowl 1? In other words, calculate $P\\left(\\text{Bowl 1}|\\text{vanilla}\\right)$.<br/>\n",
      "While the problem is easily to formulate, it is difficult to imagine how we might make use of the above concepts to find a solution. We know that $P\\left(\\text{Vanilla}|\\text{Bowl 1}\\right) = \\frac{30}{30+10} = 0.75$, but in this case $P\\left(A|B\\right) \\neq P\\left(B|A\\right)$. Turns out, we can make use of Bayes' Theorem."
     ]
    },
    {
     "cell_type": "heading",
     "level": 1,
     "metadata": {},
     "source": [
      "Bayes' Theorem"
     ]
    },
    {
     "cell_type": "markdown",
     "metadata": {},
     "source": [
      "We have all the tools we need to derive Bayes' Theorem.<br/>\n",
      "To start, let us note that for any two events $A$ and $B$, $P\\left(A \\cap B\\right) = P\\left(B \\cap A\\right)$. Next, using the formula for conjoint probability, we note that:"
     ]
    },
    {
     "cell_type": "markdown",
     "metadata": {},
     "source": [
      "\\begin{align}\n",
      "P\\left(A \\cap B\\right) &= P\\left(A|B\\right)P\\left(B\\right)\\\\\n",
      "P\\left(B \\cap A\\right) &= P\\left(B|A\\right)P\\left(A\\right)\n",
      "\\end{align}"
     ]
    },
    {
     "cell_type": "markdown",
     "metadata": {},
     "source": [
      "Setting the right hand sides of these expressions equal to one another and rearranging, we find that:"
     ]
    },
    {
     "cell_type": "markdown",
     "metadata": {},
     "source": [
      "\\begin{align}\n",
      "P\\left(A|B\\right)P\\left(B\\right)&=P\\left(B|A\\right)P\\left(A\\right)\\\\\n",
      "\\Rightarrow P\\left(A|B\\right)&=\\frac{P\\left(B|A\\right)P\\left(A\\right)}{P\\left(B\\right)}\n",
      "\\end{align}"
     ]
    },
    {
     "cell_type": "markdown",
     "metadata": {},
     "source": [
      "This is Bayes' Theorem."
     ]
    },
    {
     "cell_type": "heading",
     "level": 3,
     "metadata": {},
     "source": [
      "Solving the Cookie Problem"
     ]
    },
    {
     "cell_type": "markdown",
     "metadata": {},
     "source": [
      "First we'll use Monte Carlo simulation to estimate the answer to the cookie problem, and then we'll use Bayes' Theorem to solve it analytically."
     ]
    },
    {
     "cell_type": "heading",
     "level": 5,
     "metadata": {},
     "source": [
      "Simulation:"
     ]
    },
    {
     "cell_type": "code",
     "collapsed": false,
     "input": [
      "%%timeit -r 1 -n 1\n",
      "import random\n",
      "\n",
      "n_iter = 10000\n",
      "frequencies = {'bowl 1':0,'bowl 2':0}\n",
      "\n",
      "for i in range(n_iter):\n",
      "    bowl_1 = []\n",
      "    bowl_2 = []\n",
      "\n",
      "    # Populate bowl 1\n",
      "    for j in range(40):\n",
      "        if j < 30:\n",
      "            bowl_1.append({'bowl':'bowl 1','flavor':'vanilla'})\n",
      "        else:\n",
      "            bowl_1.append({'bowl':'bowl 1','flavor':'chocolate'})\n",
      "\n",
      "    # Populate bowl 2\n",
      "    for j in range(40):\n",
      "        if j < 20:\n",
      "            bowl_2.append({'bowl':'bowl 2','flavor':'vanilla'})\n",
      "        else:\n",
      "            bowl_2.append({'bowl':'bowl 2','flavor':'chocolate'})\n",
      "    bowls = [bowl_1,bowl_2]\n",
      "    bowls = [cookie for bowl in bowls for cookie in bowl] # combine the cookies from both bowls\n",
      "\n",
      "    # Choose a cookie, that upon inspection happens to be vanilla.\n",
      "    random_cookie = random.choice([cookie for cookie in bowls if cookie['flavor'] == 'vanilla'])\n",
      "    # Since we have the cookies labeled with their bowls, note the bowl the chosen cookie came from.\n",
      "    frequencies[random_cookie['bowl']] += 1\n",
      "\n",
      "print(\"Simulation Result: P(bowl 1|vanilla) = %0.3f\" % (frequencies['bowl 1']/n_iter))"
     ],
     "language": "python",
     "metadata": {},
     "outputs": [
      {
       "output_type": "stream",
       "stream": "stdout",
       "text": [
        "Simulation Result: P(bowl 1|vanilla) = 0.599\n",
        "1 loops, best of 1: 342 ms per loop\n"
       ]
      }
     ],
     "prompt_number": 3
    },
    {
     "cell_type": "heading",
     "level": 5,
     "metadata": {},
     "source": [
      "Using Bayes' Theorem:"
     ]
    },
    {
     "cell_type": "code",
     "collapsed": false,
     "input": [
      "P_vanilla_given_bowl_1 = 0.75 \n",
      "P_bowl_1 = 0.5\n",
      "P_vanilla = (30+20)/(40+40)\n",
      "\n",
      "# Rearrange Bayes' Theorem to calculate P(bowl 1|vanilla):\n",
      "P_bowl_1_given_vanilla = (P_vanilla_given_bowl_1*P_bowl_1)/P_vanilla\n",
      "print(\"Bayes' Theorem Result: P(bowl 1|vanilla) = %0.3f\" % P_bowl_1_given_vanilla)"
     ],
     "language": "python",
     "metadata": {},
     "outputs": [
      {
       "output_type": "stream",
       "stream": "stdout",
       "text": [
        "Bayes' Theorem Result: P(bowl 1|vanilla) = 0.600\n"
       ]
      }
     ],
     "prompt_number": 4
    },
    {
     "cell_type": "heading",
     "level": 3,
     "metadata": {},
     "source": [
      "The Diachronic Interpretation of Bayes' Theorem"
     ]
    },
    {
     "cell_type": "markdown",
     "metadata": {},
     "source": [
      "Another interpretation of Bayes' Theorem, known as the diachronic interpretation, is expressed in terms of a hypothesis $H$ and a body of data $D$. In light of $D$, we update the probability of the hypothesis $H$. Given a hypothesis $H$ and data $D$,\n",
      "$$P\\left(H|D\\right) = \\frac{P\\left(H\\right)P\\left(D|H\\right)}{P\\left(D\\right)}$$<br/>\n",
      "In this interpretation, each term has a name:\n",
      "* $P\\left(H\\right)$ is the **prior**, or the probability of the hypothesis prior to us seeing the data.\n",
      "    * Sometimes the prior can be computed based on background information, but in other cases the prior is subjective and open to interpretation based on differing data or opinions.\n",
      "* $P\\left(H|D\\right)$ is the **posterior**, or the probability of the hypothesis after accounting for the data. This is what we want to compute.\n",
      "* $P\\left(D|H\\right)$ is the **likelihood**, or the probability of the data under the hypothesis.\n",
      "    * In general, the likelihood is usually the easiest term to compute.\n",
      "* $P\\left(D\\right)$ is the **normalizing constant**, or the probability of the seeing data under *any* hypothesis.\n",
      "    * In general the normalizing constant is the most difficult term to interpret intuitively."
     ]
    },
    {
     "cell_type": "markdown",
     "metadata": {},
     "source": [
      "To make the problem more straightforward and amenable to solution, we typically choose a set of hypotheses that are:\n",
      " * **Mutually Exclusive**: At most one hypothesis can be true.\n",
      " * **Conditionally Exhaustive**: At least one hypothesis must be true; there are no other possibilities.\n",
      "Choosing a set of hypotheses that satisfy these two requirements allows us to use the **law of total probability** to calculate the normalizing constant $P\\left(D\\right)$. That is, given a set $H = \\left\\{H_{n}:n\\in\\mathbb{N}^{+}\\right\\}$ of pairwise-disjoint events whose union is the entire sample space, then for any event $D$ in the same probability space:"
     ]
    },
    {
     "cell_type": "markdown",
     "metadata": {},
     "source": [
      "\\begin{align}\n",
      "P\\left(D\\right) &= \\sum_{n}{P\\left(D \\cap H_{n}\\right)}\\\\\n",
      "&= \\sum_{n}{P\\left(D|H_{n}\\right)P\\left(H_{n}\\right)}\n",
      "\\end{align}"
     ]
    },
    {
     "cell_type": "heading",
     "level": 5,
     "metadata": {},
     "source": [
      "Applying the Diachronic Interpretation to the Cookie Problem"
     ]
    },
    {
     "cell_type": "markdown",
     "metadata": {},
     "source": [
      "In the cookie problem, \n",
      "* The hypothesis $H$ is that the cookie was from bowl 1.\n",
      "* The data $D$ is that cookie is vanilla.\n",
      "* The prior $P\\left(H\\right)$ the probability that the cookie was from bowl 1. Choosing the bowl randomly implies that $P\\left(H\\right)=\\frac{1}{2}$.\n",
      "* The posterior $P\\left(H|D\\right)$ what we're trying to calculate: The probability a cookie came from bowl 1 given that its vanilla.\n",
      "* The likelihood $P\\left(D|H\\right)$ is the probability of getting a vanilla cookie from bowl 1. $30$ of the $40$ cookies in bowl 1 are vanilla, so $P\\left(D|H\\right) = \\frac{3}{4}$.\n",
      "* The normalizing constant $P\\left(D\\right)$ is the probability of getting a vanilla cookie in general. To calculate the normalizing constant (the probablity of drawing a vanilla cookie) we made use of the law of total probability: $$P\\left(\\text{D}\\right) = \\sum_{i}{P\\left(\\text{D}|\\text{H}_{i}\\right)P\\left(\\text{H}_{i}\\right)} = \\frac{3}{4} \\cdot \\frac{1}{2} + \\frac{2}{4} \\cdot \\frac{1}{2} = \\frac{5}{8}$$<br/>\n",
      "Thus, given the hypothesis $H$ that the cookie was from bowl 1 and data $D$ that the cookie was vanilla, we see that:"
     ]
    },
    {
     "cell_type": "markdown",
     "metadata": {},
     "source": [
      "\\begin{align}\n",
      "P\\left(H|D\\right) &= \\frac{P\\left(D|H\\right)P\\left(H\\right)}{P\\left(D\\right)}\\\\\n",
      "&=\\frac{\\frac{3}{4} \\cdot \\frac{1}{2}}{\\frac{5}{8}}\\\\\n",
      "&=\\frac{3}{8} \\cdot \\frac{8}{5}\\\\\n",
      "&=\\frac{3}{5}\\\\\n",
      "&=0.6\n",
      "\\end{align}"
     ]
    },
    {
     "cell_type": "heading",
     "level": 1,
     "metadata": {},
     "source": [
      "The M&M Problem"
     ]
    },
    {
     "cell_type": "markdown",
     "metadata": {},
     "source": [
      "The following is another problem whose solution relies upon the use of Bayes' Theorem. The problem is presented as follows:"
     ]
    },
    {
     "cell_type": "markdown",
     "metadata": {},
     "source": [
      "*In 1995, Mars INC introducted blue M&M's, replacing the previous tan ones. The color distributions in each bag before and after were:*\n",
      "* **Pre-1995 Distribution:** 30% brown, 20% yellow, 20% red, 10% green, 10% orange, and 10% tan.\n",
      "* **Post-1995 Distribution:** 24% blue, 20% green, 16% orange, 14% yellow, 13% red, and 13% brown.\n",
      "\n",
      "*Suppose my friend has two bags of M&M's, and tells me that one is from 1994 (before the introduction of blue), and one is from 1996 (after the introduction of blue). He won't tell me which is which, but gives me one M&M from each bag. One is yellow and one is green. What is the probability that the yellow one came from the 1994 bag?*"
     ]
    },
    {
     "cell_type": "markdown",
     "metadata": {},
     "source": [
      "This problem is similar to the cookie problem, but instead of drawing one sample from each bin, we're drawing two.<br/>"
     ]
    },
    {
     "cell_type": "heading",
     "level": 5,
     "metadata": {},
     "source": [
      "Formulate Hypotheses"
     ]
    },
    {
     "cell_type": "markdown",
     "metadata": {},
     "source": [
      "Our first step is to formulate our hypotheses. Let bag 1 be the bag from which the yellow M%M was drawn, and let bag 2 be the bag from which the green one was drawn. Let our hypotheses then be:\n",
      "* $A$: Bag 1 is from 1994 and Bag 2 is from 1996.\n",
      "* $B$: Bag 1 is from 1996 and Bag 2 is from 1994."
     ]
    },
    {
     "cell_type": "heading",
     "level": 5,
     "metadata": {},
     "source": [
      "Formulate Data"
     ]
    },
    {
     "cell_type": "markdown",
     "metadata": {},
     "source": [
      "The data (or evidence) is that we have one yellow M&M and one green M&M. Note that the probabilities of a drawing a given M&M from each bag are independent of one another, so their conjoint probability is simply their product."
     ]
    },
    {
     "cell_type": "heading",
     "level": 5,
     "metadata": {},
     "source": [
      "Tabulate Terms"
     ]
    },
    {
     "cell_type": "markdown",
     "metadata": {},
     "source": [
      "Now we'll create a table, where each row is a hypothesis, and each column is an element of Bayes' Theorem:"
     ]
    },
    {
     "cell_type": "markdown",
     "metadata": {},
     "source": [
      "\\begin{array}{|c|c|c|c|c|c|}\n",
      "    \\small{\\mathbf{Hypothesis: } H} & \n",
      "    \\small{\\mathbf{Data: } D} &\n",
      "    \\small{\\mathbf{Prior: } P\\left(H\\right)} &\n",
      "    \\small{\\mathbf{Likelihood: } P\\left(D|H\\right) } &\n",
      "    \\small{P\\left(D|H\\right)P\\left(H\\right)} &\n",
      "    \\small{\\mathbf{Posterior: } P\\left(H|D\\right)} \\\\\n",
      "\\hline \\\\\n",
      "    A & \n",
      "    \\scriptsize{\\text{yellow 1994, green 1996}} & \n",
      "    \\frac{1}{2} & \n",
      "    \\left(0.20\\right)\\times\\left(0.20\\right) &\n",
      "    0.02 &\n",
      "    \\frac{0.02}{0.027} = 0.741 \\\\    \n",
      "    B &\n",
      "    \\scriptsize{\\text{yellow 1996, green 1994}} & \n",
      "    \\frac{1}{2} & \n",
      "    \\left(0.14\\right)\\times\\left(0.10\\right) &\n",
      "    0.007 &\n",
      "    \\frac{0.007}{0.027} = 0.259 \\\\\n",
      "\\hline \\\\\n",
      "    & & & & P\\left(D\\right) = 0.02 + 0.007 = 0.027 &\n",
      "\\end{array}"
     ]
    },
    {
     "cell_type": "markdown",
     "metadata": {},
     "source": [
      "Thus, we find that the probability the yellow M&M came from the 1994 bag to be $74.1\\%$. Note that we calculated the normalizing constant $P\\left(D\\right)$ by summing down the fifth column."
     ]
    },
    {
     "cell_type": "heading",
     "level": 1,
     "metadata": {},
     "source": [
      "Chapter Takeaway:"
     ]
    },
    {
     "cell_type": "markdown",
     "metadata": {},
     "source": [
      "Bayes' Theorem allows for us to back our way into solutions to problems involving conditional probabilities. If $P\\left(A|B\\right)$ is perhaps difficult to compute or measure experimentally, we can attempt to calculate this value by way of Bayes' Theorem in the event that $P\\left(B|A\\right)$, $P\\left(A\\right)$, and $P\\left(B\\right)$ are easier to calculate."
     ]
    }
   ],
   "metadata": {}
  }
 ]
}