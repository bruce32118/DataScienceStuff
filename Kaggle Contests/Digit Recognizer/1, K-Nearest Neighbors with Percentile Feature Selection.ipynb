{
 "metadata": {
  "name": "",
  "signature": "sha256:5327cd8342245d2ac5f3b200ef626496b035a2aa5a42d3d06ba81737baa5e1f5"
 },
 "nbformat": 3,
 "nbformat_minor": 0,
 "worksheets": [
  {
   "cells": [
    {
     "cell_type": "heading",
     "level": 1,
     "metadata": {},
     "source": [
      "Initial Model Building and Evaluation"
     ]
    },
    {
     "cell_type": "code",
     "collapsed": false,
     "input": [
      "import pandas as pd\n",
      "import numpy as np\n",
      "import matplotlib.pyplot as plt\n",
      "import sklearn.feature_selection\n",
      "import sklearn.svm\n",
      "import sklearn.neighbors\n",
      "import sklearn.pipeline\n",
      "import skimage\n",
      "import time\n",
      "%matplotlib inline"
     ],
     "language": "python",
     "metadata": {},
     "outputs": [],
     "prompt_number": 1
    },
    {
     "cell_type": "markdown",
     "metadata": {},
     "source": [
      "Get the data:"
     ]
    },
    {
     "cell_type": "code",
     "collapsed": false,
     "input": [
      "train = np.array(pd.read_csv('train.csv',header=0))\n",
      "test = np.array(pd.read_csv('test.csv',header=0))\n",
      "X, y = train[:,1:], train[:,0]"
     ],
     "language": "python",
     "metadata": {},
     "outputs": [],
     "prompt_number": 2
    },
    {
     "cell_type": "markdown",
     "metadata": {},
     "source": [
      "We'll begin by training a K-Nearest Neighbor classifier, using the top 50% features, with an 80-20 train-test split"
     ]
    },
    {
     "cell_type": "code",
     "collapsed": false,
     "input": [
      "train_start = time.time()\n",
      "model = sklearn.pipeline.Pipeline(steps=[\n",
      "    ('filter',sklearn.feature_selection.SelectPercentile(percentile=50)),\n",
      "    ('build_model',sklearn.neighbors.KNeighborsClassifier())\n",
      "])\n",
      "model.fit(X[:0.8 * len(X)],y[:0.8 * len(y)])\n",
      "print(\"Model score:\",model.score(X[0.8 * len(X):],y[0.8 * len(y):]))\n",
      "print(\"Training time: %0.3f seconds\" % (time.time()-train_start))"
     ],
     "language": "python",
     "metadata": {},
     "outputs": [
      {
       "output_type": "stream",
       "stream": "stdout",
       "text": [
        "Model score: 0.969166666667\n",
        "Training time: 212.375 seconds\n"
       ]
      }
     ],
     "prompt_number": 7
    },
    {
     "cell_type": "code",
     "collapsed": false,
     "input": [
      "prediction_start = time.time()\n",
      "predictions = model.predict(test)\n",
      "predictions = np.transpose(\n",
      "    np.array([np.arange(1,len(predictions)+1),np.transpose(predictions)])\n",
      ")\n",
      "print(\"Prediction Time: %0.3f seconds\" % (time.time() - prediction_start))"
     ],
     "language": "python",
     "metadata": {},
     "outputs": [
      {
       "output_type": "stream",
       "stream": "stdout",
       "text": [
        "Prediction Time: 635.998 seconds\n"
       ]
      }
     ],
     "prompt_number": 8
    },
    {
     "cell_type": "code",
     "collapsed": false,
     "input": [
      "# np.savetxt(\n",
      "#     'knn_50_pct.csv',predictions.astype(int),delimiter=\",\",fmt='%d', header=\"ImageId,Label\"\n",
      "# )"
     ],
     "language": "python",
     "metadata": {},
     "outputs": [],
     "prompt_number": 10
    }
   ],
   "metadata": {}
  }
 ]
}