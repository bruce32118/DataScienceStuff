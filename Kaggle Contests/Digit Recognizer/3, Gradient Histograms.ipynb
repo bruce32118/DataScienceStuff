{
 "metadata": {
  "name": "",
  "signature": "sha256:37f5416bf8ea14d7b6c69046bae85fe4fb5fc53010d7ca2206308c02bf22faf7"
 },
 "nbformat": 3,
 "nbformat_minor": 0,
 "worksheets": [
  {
   "cells": [
    {
     "cell_type": "code",
     "collapsed": false,
     "input": [
      "import pandas as pd\n",
      "import numpy as np\n",
      "import matplotlib.pyplot as plt\n",
      "import sklearn.cross_validation\n",
      "import sklearn.svm\n",
      "import sklearn.neighbors\n",
      "import sklearn.grid_search\n",
      "import skimage.transform\n",
      "import time\n",
      "%matplotlib inline"
     ],
     "language": "python",
     "metadata": {},
     "outputs": [],
     "prompt_number": 1
    },
    {
     "cell_type": "code",
     "collapsed": false,
     "input": [
      "train = np.array(pd.read_csv('train.csv',header=0))\n",
      "test = np.array(pd.read_csv('test.csv',header=0))\n",
      "X, y = train[:,1:], train[:,0]\n",
      "small_X, small_y = X[:10], y[:10]"
     ],
     "language": "python",
     "metadata": {},
     "outputs": [],
     "prompt_number": 2
    },
    {
     "cell_type": "markdown",
     "metadata": {},
     "source": [
      "Continuing our explorations of the methods employed by <a href=\"http://www.eecs.berkeley.edu/Pubs/TechRpts/2009/EECS-2009-159.pdf\">Maji, 2009</a>, here we will test the effectiveness of gradient histogram features, using a method known as <a href=\"http://en.wikipedia.org/wiki/Histogram_of_oriented_gradients\">histograms of oriented gradients</a> (or HOG)."
     ]
    },
    {
     "cell_type": "heading",
     "level": 1,
     "metadata": {},
     "source": [
      "Histograms of Oriented Gradients (HOG)"
     ]
    },
    {
     "cell_type": "markdown",
     "metadata": {},
     "source": [
      "HOG methods are comprised of five steps:\n",
      "1. **Normalization**: Normalize the image to reduce the effects of illumination and shadow (illumination invariance).\n",
      "2. **Image Gradient Computation**:Compute <a href=\"http://en.wikipedia.org/wiki/Image_gradient\">image gradients</a> in the $x$ and $y$ directions. This serves to define edges and texture, while further reducing the effects of illumination.\n",
      "3. **Histogram Creation**: The image is divided into subregions (cells) and within each cell the orientation of the gradients of the constituent pixels are binned into a histogram"
     ]
    }
   ],
   "metadata": {}
  }
 ]
}