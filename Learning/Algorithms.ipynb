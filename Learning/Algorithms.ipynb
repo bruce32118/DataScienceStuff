{
 "metadata": {
  "name": "",
  "signature": "sha256:6f7d1cc8b6b91df24a209f2d0e422f67bcbe43c5dd51c5d9a09ef9f190868a40"
 },
 "nbformat": 3,
 "nbformat_minor": 0,
 "worksheets": [
  {
   "cells": [
    {
     "cell_type": "code",
     "collapsed": false,
     "input": [
      "import numpy as np\n",
      "from sklearn.datasets import load_digits\n",
      "import matplotlib.pyplot as plt\n",
      "import sklearn.svm\n",
      "import sklearn.neighbors\n",
      "import sklearn.neural_network\n",
      "import sklearn.pipeline\n",
      "import sklearn.tree\n",
      "import sklearn.ensemble\n",
      "import sklearn.naive_bayes\n",
      "import sklearn.manifold\n",
      "import sklearn.lda\n",
      "from time import time\n",
      "%matplotlib inline"
     ],
     "language": "python",
     "metadata": {},
     "outputs": [],
     "prompt_number": 47
    },
    {
     "cell_type": "code",
     "collapsed": false,
     "input": [
      "train_test_split = 0.9\n",
      "digits = sklearn.datasets.load_digits()\n",
      "X = digits.images.reshape(len(digits.images),-1)\n",
      "y = digits.target\n",
      "X_train,y_train = X[:train_test_split*len(X)],y[:train_test_split*len(y)]\n",
      "X_test,y_test = X[train_test_split*len(X):],y[train_test_split*len(y):]"
     ],
     "language": "python",
     "metadata": {},
     "outputs": [],
     "prompt_number": 2
    },
    {
     "cell_type": "heading",
     "level": 1,
     "metadata": {},
     "source": [
      "Support Vector Machine (SVM)"
     ]
    },
    {
     "cell_type": "code",
     "collapsed": false,
     "input": [
      "svm_model = sklearn.svm.SVC(kernel='rbf',C=100,gamma=10**-3) # C and gamma choice should be optimized with GridSearch\n",
      "svm_model.fit(X_train,y_train)\n",
      "print(\"SVM Model Score\",svm_model.score(X_test,y_test))"
     ],
     "language": "python",
     "metadata": {},
     "outputs": [
      {
       "output_type": "stream",
       "stream": "stdout",
       "text": [
        "SVM Model Score 0.966666666667\n"
       ]
      }
     ],
     "prompt_number": 13
    },
    {
     "cell_type": "heading",
     "level": 1,
     "metadata": {},
     "source": [
      "Naive Bayes"
     ]
    },
    {
     "cell_type": "code",
     "collapsed": false,
     "input": [
      "nb = sklearn.naive_bayes.GaussianNB()\n",
      "nb.fit(X_train,y_train)\n",
      "print(\"SVM Model Score\",nb.score(X_test,y_test))"
     ],
     "language": "python",
     "metadata": {},
     "outputs": [
      {
       "output_type": "stream",
       "stream": "stdout",
       "text": [
        "SVM Model Score 0.788888888889\n"
       ]
      }
     ],
     "prompt_number": 38
    },
    {
     "cell_type": "heading",
     "level": 1,
     "metadata": {},
     "source": [
      "KNeighbor Clustering"
     ]
    },
    {
     "cell_type": "code",
     "collapsed": false,
     "input": [
      "knn = sklearn.neighbors.KNeighborsClassifier(n_neighbors=10)\n",
      "knn.fit(X_train,y_train)\n",
      "print(\"SVM Model Score\",knn.score(X_test,y_test))"
     ],
     "language": "python",
     "metadata": {},
     "outputs": [
      {
       "output_type": "stream",
       "stream": "stdout",
       "text": [
        "SVM Model Score 0.961111111111\n"
       ]
      }
     ],
     "prompt_number": 39
    },
    {
     "cell_type": "heading",
     "level": 1,
     "metadata": {},
     "source": [
      "Neural Nets"
     ]
    },
    {
     "cell_type": "markdown",
     "metadata": {},
     "source": [
      "Currently sklearn doesn't have true neural network capability, at least as far as classification is concerned. However, it does allow one to use Restricted Boltzmann Machines for nonlinear feature selection, which can in turn be fed to another classifier (typically a linear classifier such as logistic regression)."
     ]
    },
    {
     "cell_type": "code",
     "collapsed": false,
     "input": [
      "rbm = sklearn.neural_network.BernoulliRBM(\n",
      "    n_components=256,\n",
      "    learning_rate=0.1,\n",
      "    n_iter = 10\n",
      ")\n",
      "logistic = sklearn.linear_model.LogisticRegression(C=1.0)\n",
      "rbm_log_model = sklearn.pipeline.Pipeline(steps=[\n",
      "    ('rbm',rbm),\n",
      "    ('logistic',logistic)\n",
      "])\n",
      "rbm_log_model.fit(X_train,y_train)\n",
      "print(\"RBM-Logistic Classifier Score:\",model.score(X_test,y_test))"
     ],
     "language": "python",
     "metadata": {},
     "outputs": [
      {
       "output_type": "stream",
       "stream": "stdout",
       "text": [
        "RBM-Logistic Classifier Score: 0.1\n"
       ]
      }
     ],
     "prompt_number": 21
    },
    {
     "cell_type": "markdown",
     "metadata": {},
     "source": [
      "This is very poor performance. Image preprocessing and parameter optimization would be appropriate in this case."
     ]
    },
    {
     "cell_type": "heading",
     "level": 1,
     "metadata": {},
     "source": [
      "Decision Trees"
     ]
    },
    {
     "cell_type": "code",
     "collapsed": false,
     "input": [
      "tree = sklearn.tree.DecisionTreeClassifier(\n",
      "    criterion='entropy',\n",
      "    splitter='best'    \n",
      ")\n",
      "tree.fit(X_train,y_train)\n",
      "print(\"Decision Tree Score:\",tree.score(X_test,y_test))"
     ],
     "language": "python",
     "metadata": {},
     "outputs": [
      {
       "output_type": "stream",
       "stream": "stdout",
       "text": [
        "Decision Tree Score: 0.85\n"
       ]
      }
     ],
     "prompt_number": 23
    },
    {
     "cell_type": "heading",
     "level": 1,
     "metadata": {},
     "source": [
      "Random Forests"
     ]
    },
    {
     "cell_type": "code",
     "collapsed": false,
     "input": [
      "if __name__ == '__main__': # For parallel processing.\n",
      "    trees = sklearn.ensemble.RandomForestClassifier(\n",
      "        criterion='entropy',\n",
      "        n_jobs = -1,\n",
      "        bootstrap = True\n",
      "    )\n",
      "    trees.fit(X_train,y_train)\n",
      "print(\"Random Forest Score:\",trees.score(X_test,y_test))"
     ],
     "language": "python",
     "metadata": {},
     "outputs": [
      {
       "output_type": "stream",
       "stream": "stdout",
       "text": [
        "Random Forest Score: 0.905555555556\n"
       ]
      }
     ],
     "prompt_number": 25
    },
    {
     "cell_type": "heading",
     "level": 1,
     "metadata": {},
     "source": [
      "Boosted Decision Trees"
     ]
    },
    {
     "cell_type": "code",
     "collapsed": false,
     "input": [
      "boosted = sklearn.ensemble.AdaBoostClassifier(learning_rate=0.3,n_estimators=100)\n",
      "boosted.fit(X_train,y_train)\n",
      "print(\"Boosted Decision Tree Score:\",boosted.score(X_test,y_test))"
     ],
     "language": "python",
     "metadata": {},
     "outputs": [
      {
       "output_type": "stream",
       "stream": "stdout",
       "text": [
        "Boosted Decision Tree Score: 0.788888888889\n"
       ]
      }
     ],
     "prompt_number": 41
    },
    {
     "cell_type": "heading",
     "level": 1,
     "metadata": {},
     "source": [
      "Linear Models"
     ]
    },
    {
     "cell_type": "heading",
     "level": 3,
     "metadata": {},
     "source": [
      "Logistic Regression"
     ]
    },
    {
     "cell_type": "code",
     "collapsed": false,
     "input": [
      "logistic = sklearn.linear_model.LogisticRegression(C=100)\n",
      "logistic.fit(X_train,y_train)\n",
      "print(\"Decision Tree Score:\",logistic.score(X_test,y_test))"
     ],
     "language": "python",
     "metadata": {},
     "outputs": [
      {
       "output_type": "stream",
       "stream": "stdout",
       "text": [
        "Decision Tree Score: 0.927777777778\n"
       ]
      }
     ],
     "prompt_number": 40
    },
    {
     "cell_type": "heading",
     "level": 3,
     "metadata": {},
     "source": [
      "Stochastic Gradient Descent (SGD)"
     ]
    },
    {
     "cell_type": "code",
     "collapsed": false,
     "input": [
      "sgd = sklearn.linear_model.SGDClassifier()\n",
      "sgd.fit(X_train,y_train)\n",
      "print(\"Decision Tree Score:\",sgd.score(X_test,y_test))"
     ],
     "language": "python",
     "metadata": {},
     "outputs": [
      {
       "output_type": "stream",
       "stream": "stdout",
       "text": [
        "Decision Tree Score: 0.883333333333\n"
       ]
      }
     ],
     "prompt_number": 42
    },
    {
     "cell_type": "code",
     "collapsed": false,
     "input": [],
     "language": "python",
     "metadata": {},
     "outputs": []
    }
   ],
   "metadata": {}
  }
 ]
}