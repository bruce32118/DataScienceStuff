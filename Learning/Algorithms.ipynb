{
 "metadata": {
  "name": "",
  "signature": "sha256:61e20a92d00ef6d182fa5828f9d8a9cdc9fbb5ea65bfb7a21e5337e9c2510738"
 },
 "nbformat": 3,
 "nbformat_minor": 0,
 "worksheets": [
  {
   "cells": [
    {
     "cell_type": "code",
     "collapsed": false,
     "input": [
      "import numpy as np\n",
      "from sklearn.datasets import load_digits\n",
      "import matplotlib.pyplot as plt\n",
      "import sklearn.feature_selection\n",
      "import sklearn.pipeline\n",
      "import sklearn.svm\n",
      "import sklearn.neighbors\n",
      "import sklearn.grid_search\n",
      "import sklearn.cross_validation\n",
      "from time import time\n",
      "%matplotlib inline"
     ],
     "language": "python",
     "metadata": {},
     "outputs": [],
     "prompt_number": 54
    },
    {
     "cell_type": "code",
     "collapsed": false,
     "input": [
      "digits = sklearn.datasets.load_digits()\n",
      "X = digits.images.reshape(len(digits.images),-1)\n",
      "y = digits.target"
     ],
     "language": "python",
     "metadata": {},
     "outputs": [],
     "prompt_number": 55
    },
    {
     "cell_type": "heading",
     "level": 1,
     "metadata": {},
     "source": [
      "SVM"
     ]
    },
    {
     "cell_type": "code",
     "collapsed": false,
     "input": [
      "svm_model = sklearn.svm.SVC(kernel='rbf',C=10**5,gamma=10**-3)\n",
      "svm_model.fit(X[:0.9*len(X)],y[:0.9*len(y)])\n",
      "print(\"Model Score\",svm_model.score(X[0.9*len(X):],y[0.9*len(y):]))"
     ],
     "language": "python",
     "metadata": {},
     "outputs": [
      {
       "output_type": "stream",
       "stream": "stdout",
       "text": [
        "Model Score 0.966666666667\n"
       ]
      }
     ],
     "prompt_number": 56
    },
    {
     "cell_type": "heading",
     "level": 1,
     "metadata": {},
     "source": [
      "Decision Trees"
     ]
    },
    {
     "cell_type": "heading",
     "level": 1,
     "metadata": {},
     "source": [
      "Naive Bayes"
     ]
    },
    {
     "cell_type": "heading",
     "level": 1,
     "metadata": {},
     "source": [
      "KNeighbor Clustering"
     ]
    },
    {
     "cell_type": "heading",
     "level": 1,
     "metadata": {},
     "source": [
      "Neural Nets"
     ]
    },
    {
     "cell_type": "heading",
     "level": 1,
     "metadata": {},
     "source": [
      "Random Forests"
     ]
    },
    {
     "cell_type": "heading",
     "level": 1,
     "metadata": {},
     "source": [
      "Linear Models"
     ]
    },
    {
     "cell_type": "code",
     "collapsed": false,
     "input": [],
     "language": "python",
     "metadata": {},
     "outputs": [],
     "prompt_number": 56
    }
   ],
   "metadata": {}
  }
 ]
}