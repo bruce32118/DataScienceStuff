{
 "metadata": {
  "name": "",
  "signature": "sha256:62b6ea19c5840faa58d00aa71a4571342f888e07061d1435442e0dbd73879c2b"
 },
 "nbformat": 3,
 "nbformat_minor": 0,
 "worksheets": [
  {
   "cells": [
    {
     "cell_type": "code",
     "collapsed": false,
     "input": [
      "import numpy as np\n",
      "from sklearn.datasets import load_digits\n",
      "import matplotlib.pyplot as plt\n",
      "import sklearn.feature_selection\n",
      "import sklearn.pipeline\n",
      "import sklearn.svm\n",
      "import sklearn.neighbors\n",
      "import sklearn.grid_search\n",
      "import sklearn.cross_validation\n",
      "from time import time\n",
      "%matplotlib inline"
     ],
     "language": "python",
     "metadata": {},
     "outputs": [],
     "prompt_number": 49
    },
    {
     "cell_type": "markdown",
     "metadata": {},
     "source": [
      "Here we'll present an end-to-end model-building and validation workflow, making use of Scikit Learn's pipeline feature. We'll iteratively build, evaluate, and modify various models to classify handwritten digits."
     ]
    },
    {
     "cell_type": "code",
     "collapsed": false,
     "input": [
      "digits = sklearn.datasets.load_digits()\n",
      "X = digits.images.reshape(len(digits.images),-1)\n",
      "y = digits.target"
     ],
     "language": "python",
     "metadata": {},
     "outputs": [],
     "prompt_number": 50
    },
    {
     "cell_type": "code",
     "collapsed": false,
     "input": [
      "pipeline = sklearn.pipeline.Pipeline(steps=[\n",
      "    ('feature_selection',sklearn.feature_selection.SelectPercentile()),\n",
      "    ('estimator',sklearn.neighbors.KNeighborsClassifier())\n",
      "])"
     ],
     "language": "python",
     "metadata": {},
     "outputs": [],
     "prompt_number": 51
    },
    {
     "cell_type": "code",
     "collapsed": false,
     "input": [
      "parameters = {\n",
      "    'feature_selection__percentile': np.arange(5,100,5),\n",
      "}"
     ],
     "language": "python",
     "metadata": {},
     "outputs": [],
     "prompt_number": 52
    },
    {
     "cell_type": "code",
     "collapsed": false,
     "input": [
      "if __name__ == \"__main__\":\n",
      "    # multiprocessing requires the fork to happen in a __main__ protected\n",
      "    # block\n",
      "    \n",
      "    grid_search = sklearn.grid_search.GridSearchCV(\n",
      "        pipeline,parameters,cv=5,n_jobs=-1,verbose=1\n",
      "    )\n",
      "    grid_search.fit(X,y)\n",
      "    print(\"Best score: %0.3f\" % grid_search.best_score_)\n",
      "    print(\"Best parameters set:\")\n",
      "    best_parameters = grid_search.best_estimator_.get_params()\n",
      "    for param_name in sorted(parameters.keys()):\n",
      "        print(\"\\t%s: %r\" % (param_name, best_parameters[param_name]))"
     ],
     "language": "python",
     "metadata": {},
     "outputs": [
      {
       "output_type": "stream",
       "stream": "stderr",
       "text": [
        "[Parallel(n_jobs=-1)]: Done   1 jobs       | elapsed:    0.9s\n",
        "[Parallel(n_jobs=-1)]: Done  50 jobs       | elapsed:    2.2s\n",
        "[Parallel(n_jobs=-1)]: Done  89 out of  95 | elapsed:    3.0s remaining:    0.1s\n",
        "[Parallel(n_jobs=-1)]: Done  95 out of  95 | elapsed:    3.2s finished\n"
       ]
      },
      {
       "output_type": "stream",
       "stream": "stdout",
       "text": [
        "Fitting 5 folds for each of 19 candidates, totalling 95 fits\n",
        "Best score: 0.967"
       ]
      },
      {
       "output_type": "stream",
       "stream": "stdout",
       "text": [
        "\n",
        "Best parameters set:\n",
        "\tfeature_selection__percentile: 65\n"
       ]
      }
     ],
     "prompt_number": 53
    }
   ],
   "metadata": {}
  }
 ]
}