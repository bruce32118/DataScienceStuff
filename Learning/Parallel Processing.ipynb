{
 "metadata": {
  "name": "",
  "signature": "sha256:7bf4c73da06e95a123c04faf8bc8e4585c6244289938120a48190a9d8cefcfe6"
 },
 "nbformat": 3,
 "nbformat_minor": 0,
 "worksheets": [
  {
   "cells": [
    {
     "cell_type": "code",
     "collapsed": false,
     "input": [
      "import multiprocessing\n",
      "import multiprocessing.dummy\n",
      "import time\n",
      "import numpy as np"
     ],
     "language": "python",
     "metadata": {},
     "outputs": [],
     "prompt_number": 1
    },
    {
     "cell_type": "code",
     "collapsed": false,
     "input": [
      "def my_function(a):\n",
      "    time.sleep(1)\n",
      "    return a"
     ],
     "language": "python",
     "metadata": {},
     "outputs": [],
     "prompt_number": 2
    },
    {
     "cell_type": "code",
     "collapsed": false,
     "input": [
      "A = np.arange(0,11,1)\n",
      "print(\"A=\",A)"
     ],
     "language": "python",
     "metadata": {},
     "outputs": [
      {
       "output_type": "stream",
       "stream": "stdout",
       "text": [
        "A= [ 0  1  2  3  4  5  6  7  8  9 10]\n"
       ]
      }
     ],
     "prompt_number": 3
    },
    {
     "cell_type": "code",
     "collapsed": false,
     "input": [
      "single_start = time.time()\n",
      "for a in A:\n",
      "    my_function(A)\n",
      "print(\"Time: %0.3f seconds\" %(time.time()-single_start))"
     ],
     "language": "python",
     "metadata": {},
     "outputs": [
      {
       "output_type": "stream",
       "stream": "stdout",
       "text": [
        "Time: 11.103 seconds\n"
       ]
      }
     ],
     "prompt_number": 4
    },
    {
     "cell_type": "heading",
     "level": 1,
     "metadata": {},
     "source": [
      "Using Multiple Threads"
     ]
    },
    {
     "cell_type": "code",
     "collapsed": false,
     "input": [
      "multi_thread_start = time.time()\n",
      "pool = multiprocessing.dummy.Pool()\n",
      "pool.map(my_function,A)\n",
      "print(\"Time: %0.3f seconds\" %(time.time()-multi_thread_start))"
     ],
     "language": "python",
     "metadata": {},
     "outputs": [
      {
       "output_type": "stream",
       "stream": "stdout",
       "text": [
        "Time: 3.041 seconds\n"
       ]
      }
     ],
     "prompt_number": 5
    },
    {
     "cell_type": "markdown",
     "metadata": {},
     "source": [
      "We can use <code>apply_async()</code> to pass in a function with multiple arguments"
     ]
    },
    {
     "cell_type": "code",
     "collapsed": false,
     "input": [
      "def my_multi_function(a,b,c):\n",
      "    time.sleep(1)\n",
      "    return a+b+c\n",
      "\n",
      "A = np.arange(0,11,1)\n",
      "B = 10\n",
      "C = 100\n",
      "\n",
      "multi_arg_start = time.time()\n",
      "pool = multiprocessing.dummy.Pool()\n",
      "args = [(a,B,C) for a in A]\n",
      "results = [pool.apply_async(my_multi_function,arg) for arg in args]\n",
      "print([p.get() for p in results])\n",
      "print(\"Time: %0.3f seconds\" % (time.time() - multi_arg_start))"
     ],
     "language": "python",
     "metadata": {},
     "outputs": [
      {
       "output_type": "stream",
       "stream": "stdout",
       "text": [
        "[110, 111, 112, 113, 114, 115, 116, 117, 118, 119, 120]\n",
        "Time: 3.026 seconds\n"
       ]
      }
     ],
     "prompt_number": 7
    }
   ],
   "metadata": {}
  }
 ]
}