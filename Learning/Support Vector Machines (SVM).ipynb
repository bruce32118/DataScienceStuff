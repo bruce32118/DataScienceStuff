{
 "metadata": {
  "name": "",
  "signature": "sha256:09d95faea568585035cbe80e656a488fbc959812a54d0b1ee3e24a5e30fdbd29"
 },
 "nbformat": 3,
 "nbformat_minor": 0,
 "worksheets": [
  {
   "cells": [
    {
     "cell_type": "heading",
     "level": 1,
     "metadata": {},
     "source": [
      "Support Vector Machines using SKLearn"
     ]
    },
    {
     "cell_type": "code",
     "collapsed": false,
     "input": [
      "import numpy as np\n",
      "import matplotlib.pyplot as plt\n",
      "from sklearn import svm\n",
      "%matplotlib inline"
     ],
     "language": "python",
     "metadata": {},
     "outputs": [],
     "prompt_number": 2
    },
    {
     "cell_type": "heading",
     "level": 3,
     "metadata": {},
     "source": [
      "SVM Primer"
     ]
    },
    {
     "cell_type": "markdown",
     "metadata": {},
     "source": [
      "At it's core, an SVM is a classifier that takes $n$-dimensional training data of the form $\\mathbf{D} = \\left\\{\\mathbf{d}\\in \\mathbb{R}^{n},t\\in\\left\\{-1,1\\right\\}\\right\\}$, where $\\mathbf{d}$ is an $n$-dimensional feature vector and $t$ is a target indicating class. The SVM algorithm determines the optimal hyperplane in $n$-space that separates the points in each class and where the distance between the two collections and the hyperplane is equal. This is known as a *maximum-margin hyperplane*."
     ]
    },
    {
     "cell_type": "heading",
     "level": 3,
     "metadata": {},
     "source": [
      "Simple Example: Binary Classification in $\\mathbb{R}^{2}$"
     ]
    },
    {
     "cell_type": "markdown",
     "metadata": {},
     "source": [
      "SVM's in their most basic form are only capable of linear classification. However, they can be used for non-linear classification by using a kernel function to transform the feature space before the maximum-margin hyperplane in fitted.<br/>\n",
      "We'll perform a simple classification of points lying either above and below the line $y=x^{2}$, using a number of different kernel functions and observe the differences."
     ]
    },
    {
     "cell_type": "code",
     "collapsed": false,
     "input": [
      "x = np.linspace(0,5,100)\n",
      "noise = 5*np.random.randn(len(x)) # Random Gaussian noise.\n",
      "y = x**2 + noise\n",
      "plt.plot(x,x**2,'r',x,y,'b.')\n",
      "plt.title(r'$y=x^{2}$, with noise.')\n",
      "plt.show()"
     ],
     "language": "python",
     "metadata": {},
     "outputs": [
      {
       "metadata": {},
       "output_type": "display_data",
       "png": "[encoded data removed]",
       "text": [
        "<matplotlib.figure.Figure at 0x94ce7b8>"
       ]
      }
     ],
     "prompt_number": 17
    },
    {
     "cell_type": "markdown",
     "metadata": {},
     "source": [
      "We'll now assign classes, where points below $y=x^{2}$ will be members of class $-1$ and those above or on the line will be members of class $1$."
     ]
    },
    {
     "cell_type": "code",
     "collapsed": false,
     "input": [
      "def assign_classes(x,y):\n",
      "    if y < x**2:\n",
      "        return -1\n",
      "    else:\n",
      "        return 1\n",
      "\n",
      "assign_classes = np.vectorize(assign_classes) # Vectorize the function\n",
      "\n",
      "classes = assign_classes(x,y) # Assign the classes using vectorized function.\n",
      "data = np.column_stack((x,y)) # join x and y into (x,y) pairs."
     ],
     "language": "python",
     "metadata": {},
     "outputs": [],
     "prompt_number": 21
    },
    {
     "cell_type": "code",
     "collapsed": false,
     "input": [],
     "language": "python",
     "metadata": {},
     "outputs": []
    }
   ],
   "metadata": {}
  }
 ]
}